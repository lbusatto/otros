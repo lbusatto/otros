{
  "nbformat": 4,
  "nbformat_minor": 0,
  "metadata": {
    "colab": {
      "provenance": [],
      "authorship_tag": "ABX9TyMzTxHeLqN6zYz/x0JsWb4g",
      "include_colab_link": true
    },
    "kernelspec": {
      "name": "python3",
      "display_name": "Python 3"
    },
    "language_info": {
      "name": "python"
    }
  },
  "cells": [
    {
      "cell_type": "markdown",
      "metadata": {
        "id": "view-in-github",
        "colab_type": "text"
      },
      "source": [
        "<a href=\"https://colab.research.google.com/github/lbusatto/otros/blob/main/Ejercicio%20diccionario.ipynb\" target=\"_parent\"><img src=\"https://colab.research.google.com/assets/colab-badge.svg\" alt=\"Open In Colab\"/></a>"
      ]
    },
    {
      "cell_type": "code",
      "execution_count": 59,
      "metadata": {
        "id": "gvTebBAnRU1P"
      },
      "outputs": [],
      "source": [
        "import json\n",
        "clientes=[]\n",
        "cliente_subir={}\n",
        "archivo_clientes = '/content/sample_data/clientes.json'\n",
        "archivo_pedidos = 'sample_data/pedidos.json'"
      ]
    },
    {
      "cell_type": "code",
      "source": [
        "def subir_cliente(archivo_clientes, clientes): #Sube al archivo clientes.json el cliente almacenado en cliente_subir\n",
        "  with open(archivo_clientes, 'w') as archivo_cargado:\n",
        "    json.dump(clientes, archivo_cargado)"
      ],
      "metadata": {
        "id": "92yZUwlxSM5H"
      },
      "execution_count": 37,
      "outputs": []
    },
    {
      "cell_type": "code",
      "source": [
        " def leer_archivo(archivo_clientes):\n",
        "   with open(archivo_clientes, 'r') as f:\n",
        "    clientes = json.load(f)\n",
        "    print(clientes)\n",
        "    return clientes"
      ],
      "metadata": {
        "id": "I3iPyVBCP9Nr"
      },
      "execution_count": 65,
      "outputs": []
    },
    {
      "cell_type": "code",
      "source": [
        "def cargar_clientes():\n",
        "  idcliente=int(input('Ingrese n cliente: '))\n",
        "  rsocial=input('Ingrese razon social: ')\n",
        "  cuit=int(input('ingrese cuit: '))\n",
        "  direccion=input('ingrese direccion: ')\n",
        "  cliente_subir['idcliente']=idcliente\n",
        "  cliente_subir['Razon social']=rsocial\n",
        "  cliente_subir['CUIT']=cuit\n",
        "  cliente_subir['Direccion']=direccion\n",
        "  return cliente_subir\n"
      ],
      "metadata": {
        "id": "qKeVJgw0T1lR"
      },
      "execution_count": 3,
      "outputs": []
    },
    {
      "cell_type": "code",
      "source": [
        "clientes=leer_archivo(archivo_clientes)\n"
      ],
      "metadata": {
        "colab": {
          "base_uri": "https://localhost:8080/"
        },
        "id": "xMbmfIPEeOWc",
        "outputId": "8fb42dcf-16a5-452c-91f4-3d9801b4fb20"
      },
      "execution_count": 75,
      "outputs": [
        {
          "output_type": "stream",
          "name": "stdout",
          "text": [
            "[{'idcliente': 1, 'Razon social': 'asdasad', 'CUIT': 151515, 'Direccion': 'weqwe511'}, {'idcliente': 2, 'Razon social': 'asdasda', 'CUIT': 151515, 'Direccion': 'adwqdw 1515'}, {}, {'idcliente': 3, 'Razon social': 'aasdas', 'CUIT': 515151, 'Direccion': 'asdasd 818'}]\n"
          ]
        }
      ]
    },
    {
      "cell_type": "code",
      "source": [
        "cliente_subir = cargar_clientes()"
      ],
      "metadata": {
        "colab": {
          "base_uri": "https://localhost:8080/"
        },
        "id": "FNCOXGioXVdA",
        "outputId": "d03d5ed4-c743-43c2-d92d-e2c1ab3024e8"
      },
      "execution_count": 71,
      "outputs": [
        {
          "name": "stdout",
          "output_type": "stream",
          "text": [
            "Ingrese n cliente: 3\n",
            "Ingrese razon social: aasdas\n",
            "ingrese cuit: 515151\n",
            "ingrese direccion: asdasd 818\n"
          ]
        }
      ]
    },
    {
      "cell_type": "code",
      "source": [
        "clientes.append(cliente_subir)"
      ],
      "metadata": {
        "id": "XYyrLG4Chr9h"
      },
      "execution_count": 72,
      "outputs": []
    },
    {
      "cell_type": "code",
      "source": [
        "print(clientes)"
      ],
      "metadata": {
        "colab": {
          "base_uri": "https://localhost:8080/"
        },
        "id": "-TdL-TemWIJH",
        "outputId": "f6bc2ba6-82f6-4671-ab2a-81d0e4f843d0"
      },
      "execution_count": 73,
      "outputs": [
        {
          "output_type": "stream",
          "name": "stdout",
          "text": [
            "[{'idcliente': 1, 'Razon social': 'asdasad', 'CUIT': 151515, 'Direccion': 'weqwe511'}, {'idcliente': 2, 'Razon social': 'asdasda', 'CUIT': 151515, 'Direccion': 'adwqdw 1515'}, {}, {'idcliente': 3, 'Razon social': 'aasdas', 'CUIT': 515151, 'Direccion': 'asdasd 818'}]\n"
          ]
        }
      ]
    },
    {
      "cell_type": "code",
      "source": [
        "subir_cliente(archivo_clientes, clientes)"
      ],
      "metadata": {
        "id": "sOAPrKDiYhsk"
      },
      "execution_count": 74,
      "outputs": []
    }
  ]
}