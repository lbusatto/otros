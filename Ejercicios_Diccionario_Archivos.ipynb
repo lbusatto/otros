{
  "nbformat": 4,
  "nbformat_minor": 0,
  "metadata": {
    "colab": {
      "name": "Ejercicios_Diccionario_Archivos.ipynb",
      "provenance": []
    },
    "kernelspec": {
      "name": "python3",
      "display_name": "Python 3"
    },
    "language_info": {
      "name": "python"
    }
  },
  "cells": [
    {
      "cell_type": "markdown",
      "metadata": {
        "id": "vS3T7l2PqJ4Y"
      },
      "source": [
        "## Ejercicios Diccionarios y archivos\n",
        "\n",
        "Una empresa de lógistica posee una base de clientes con la siguiente informacion:\n",
        "\n",
        "```\n",
        "idClient: (int)\n",
        "  Razon Social: (string)\n",
        "  cuit: (string)\n",
        "  direccion: (string)\n",
        "```\n",
        "\n",
        "Por otro lado la empresa cuenta con una base de los pedidos realizados por los clientes, dicha base cuenta con la siguiente estructura:\n",
        "\n",
        "```\n",
        "idPedido: (int)\n",
        "  idCliente: (int)\n",
        "  producto: (string)\n",
        "  cantidad: (int)\n",
        "```\n",
        "\n",
        "Completar los siguiente ítems:\n",
        "\n",
        "1. Crear una función que permita la carga de clientes y los guarde en un archivo (Utilizar manejo de excepciones)\n",
        "\n",
        "2. Crear una función que permita la carga de pedidos y los guarde en un archivo (Utilizar manejo de excepciones)\n",
        "\n",
        "3. Crear una función que imprima por pantalla el listado de clientes.\n",
        "\n",
        "4. Crear una función que imprima por pantalla el listado de pedidos.\n",
        "\n",
        "5. [BONUS] Crear una función que le pase el id or razón social de un cliente y me liste todos los pedidos realizados. \n",
        "\n",
        "\n",
        "Consideraciones:\n",
        "* Utilizar funciones\n",
        "* Utilizar diccionarios anidados\n",
        "* De ser posible, importar librería json para la gestión de archivos.\n",
        "\n",
        "Para escribir archivos json usar un bloque similar al debajo descripto.\n",
        "\n",
        "```\n",
        "filename = './sample_data/username.json'\n",
        "with open(filename, 'w') as f:\n",
        "  json.dump(username, f)\n",
        "```\n",
        "\n",
        "Para leer archivos json usar un bloque similar al debajo descripto.\n",
        "\n",
        "```\n",
        "with open(filename) as f:\n",
        "  username = json.load(f)\n",
        "\n",
        "```\n",
        "\n",
        "\n"
      ]
    }
  ]
}