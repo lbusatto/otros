{
  "nbformat": 4,
  "nbformat_minor": 0,
  "metadata": {
    "colab": {
      "provenance": [],
      "authorship_tag": "ABX9TyOm4/2V/jSZoFmzFJJsykcu",
      "include_colab_link": true
    },
    "kernelspec": {
      "name": "python3",
      "display_name": "Python 3"
    },
    "language_info": {
      "name": "python"
    }
  },
  "cells": [
    {
      "cell_type": "markdown",
      "metadata": {
        "id": "view-in-github",
        "colab_type": "text"
      },
      "source": [
        "<a href=\"https://colab.research.google.com/github/lbusatto/otros/blob/main/examen%20airbnb.ipynb\" target=\"_parent\"><img src=\"https://colab.research.google.com/assets/colab-badge.svg\" alt=\"Open In Colab\"/></a>"
      ]
    },
    {
      "cell_type": "code",
      "execution_count": 1,
      "metadata": {
        "id": "jvvrrBPF_yuB",
        "colab": {
          "base_uri": "https://localhost:8080/"
        },
        "outputId": "90622688-4210-4eed-cd32-279cd4f3cfd2"
      },
      "outputs": [
        {
          "output_type": "stream",
          "name": "stderr",
          "text": [
            "<ipython-input-1-db9885636279>:3: DtypeWarning: Columns (0,13,21,24,25,32,35,40,53,54,59,70,71,72,74) have mixed types. Specify dtype option on import or set low_memory=False.\n",
            "  lis = pd.read_csv('https://raw.githubusercontent.com/al34n1x/DataScience/master/100.Examen/2021/examen_listado.csv')\n"
          ]
        }
      ],
      "source": [
        "import pandas as pd \n",
        "import numpy as np\n",
        "lis = pd.read_csv('https://raw.githubusercontent.com/al34n1x/DataScience/master/100.Examen/2021/examen_listado.csv')\n",
        "rev = pd.read_csv('https://raw.githubusercontent.com/al34n1x/DataScience/master/100.Examen/2021/examen_reviews.csv')\n"
      ]
    },
    {
      "cell_type": "code",
      "source": [
        "dflis = pd.DataFrame(lis[:])\n",
        "dfrev = pd.DataFrame(rev[:100])"
      ],
      "metadata": {
        "id": "C5fwIAYMAe7-"
      },
      "execution_count": 25,
      "outputs": []
    },
    {
      "cell_type": "code",
      "source": [
        "lis.columns"
      ],
      "metadata": {
        "id": "Xmp1-fpRt3l_"
      },
      "execution_count": null,
      "outputs": []
    },
    {
      "cell_type": "code",
      "source": [
        "display(dflis)\n",
        "display(dfrev)"
      ],
      "metadata": {
        "id": "LAhAc5jI9bLR"
      },
      "execution_count": null,
      "outputs": []
    },
    {
      "cell_type": "code",
      "source": [
        "#borro nulos de review_scores_rating\n",
        "dflis = dflis.dropna(subset=['review_scores_rating'])\n",
        "dflis.reindex()"
      ],
      "metadata": {
        "id": "RQrHH3j9pov8"
      },
      "execution_count": null,
      "outputs": []
    },
    {
      "cell_type": "code",
      "source": [
        "#selecciono las que creo importantes para analizar\n",
        "lisinteres = ['id', 'property_type', 'host_identity_verified', 'zipcode', 'city', 'price', 'number_of_reviews', 'review_scores_rating', 'reviews_per_month', 'review_scores_value']\n",
        "dflis = dflis[lisinteres]"
      ],
      "metadata": {
        "id": "uH91Ci7WjJu_"
      },
      "execution_count": 35,
      "outputs": []
    },
    {
      "cell_type": "code",
      "source": [
        "#cuenta la cantidad de veces que aparece cada ciudad\n",
        "avg_ratings = dflis.groupby('city')['review_scores_rating'].mean().sort_values(ascending = False)\n",
        "result = avg_ratings.groupby('city').agg(['mean', 'count'])\n",
        "grouped_counts = dflis['city'].value_counts().sort_values(ascending=False)\n",
        "grouped_counts[:20]"
      ],
      "metadata": {
        "id": "u2HtWDmylgnE"
      },
      "execution_count": null,
      "outputs": []
    },
    {
      "cell_type": "code",
      "source": [
        "#unifico las ciudades que mas aparecen y sus zipcode\n",
        "dflis['city'] = dflis['city'].str.lower()\n",
        "dflis['city'] = dflis['city'].replace(['alcúdia'], 'alcudia')\n",
        "dflis['city'] = dflis['city'].replace(['pollensa / pollença', 'port de pollença', 'pollença'], 'pollensa') #unifico algunas de las mas nombradas\n",
        "dflis['city'] = dflis['city'].replace(['palma de mallorca'], 'palma')\n",
        "dflis.loc[dflis['city'] == 'palma', 'zipcode'] = '07015' #unifico zipcodes\n",
        "dflis.loc[dflis['city'] == 'pollensa', 'zipcode'] = '07460'\n",
        "#borro nulos de review_scores_rating\n",
        "dflis = dflis.dropna(subset=['review_scores_rating', 'price'])\n",
        "dflis = dflis.reindex()\n",
        "dflis\n",
        "\n"
      ],
      "metadata": {
        "id": "GlUmhQ4W803D"
      },
      "execution_count": null,
      "outputs": []
    },
    {
      "cell_type": "code",
      "source": [
        "#convierto 'price' a flotante para poder trabajarlo y borro nulos\n",
        "dflis['price'] = dflis['price'].replace({'\\$': '', ',': '', '.00': ''}, regex=True)\n",
        "dflis['price'] = pd.to_numeric(dflis['price'], errors='coerce')\n",
        "dflis = dflis.dropna(subset=['price'])"
      ],
      "metadata": {
        "id": "jsU860HjvNDE"
      },
      "execution_count": 34,
      "outputs": []
    },
    {
      "cell_type": "code",
      "source": [
        "#obtengo cantidad de cada tipo de alojamientos\n",
        "dflis['property_type'].value_counts()"
      ],
      "metadata": {
        "id": "QwV9lkqZx9UK"
      },
      "execution_count": null,
      "outputs": []
    },
    {
      "cell_type": "code",
      "source": [
        "from pandas._libs.hashtable import value_count\n",
        "#promedio de precios por tipo de alojamiento y cantidad de muestras\n",
        "dflis.groupby('property_type')['price'].agg(['mean', 'count']).sort_values(by='count', ascending=False)\n"
      ],
      "metadata": {
        "id": "sdZJkNspOOcU",
        "outputId": "6c37222b-5300-4c4c-da93-1170f7782ef6",
        "colab": {
          "base_uri": "https://localhost:8080/",
          "height": 1000
        }
      },
      "execution_count": 49,
      "outputs": [
        {
          "output_type": "execute_result",
          "data": {
            "text/plain": [
              "                              mean  count\n",
              "property_type                            \n",
              "House                   162.912228   2985\n",
              "Apartment                86.778293   2156\n",
              "Villa                   219.135471   1934\n",
              "Cottage                 164.697248    545\n",
              "Chalet                  188.325137    366\n",
              "Townhouse               128.082609    230\n",
              "Condominium              99.292308    195\n",
              "Bed and breakfast        90.063830     94\n",
              "Guesthouse               95.511628     86\n",
              "Serviced apartment      127.107692     65\n",
              "Loft                    105.906250     64\n",
              "Guest suite              86.209677     62\n",
              "Boutique hotel          161.372549     51\n",
              "Bungalow                137.552632     38\n",
              "Hostel                   95.517241     29\n",
              "Farm stay               185.833333     18\n",
              "Camper/RV                68.411765     17\n",
              "Hotel                    96.500000     16\n",
              "Boat                    212.923077     13\n",
              "Other                   111.769231     13\n",
              "Castle                  237.500000     10\n",
              "Cabin                   108.375000      8\n",
              "Casa particular (Cuba)   86.714286      7\n",
              "Aparthotel              101.000000      6\n",
              "Earth house             159.833333      6\n",
              "Nature lodge            151.000000      5\n",
              "Tiny house               50.200000      5\n",
              "Resort                  139.666667      3\n",
              "Vacation home           112.000000      2\n",
              "Hut                      42.000000      2\n",
              "4                        11.000000      1\n",
              "Tent                     90.000000      1\n",
              "Windmill                176.000000      1"
            ],
            "text/html": [
              "\n",
              "  <div id=\"df-3ae2f1b0-3bb4-4bb4-8ac9-3b546c75400a\">\n",
              "    <div class=\"colab-df-container\">\n",
              "      <div>\n",
              "<style scoped>\n",
              "    .dataframe tbody tr th:only-of-type {\n",
              "        vertical-align: middle;\n",
              "    }\n",
              "\n",
              "    .dataframe tbody tr th {\n",
              "        vertical-align: top;\n",
              "    }\n",
              "\n",
              "    .dataframe thead th {\n",
              "        text-align: right;\n",
              "    }\n",
              "</style>\n",
              "<table border=\"1\" class=\"dataframe\">\n",
              "  <thead>\n",
              "    <tr style=\"text-align: right;\">\n",
              "      <th></th>\n",
              "      <th>mean</th>\n",
              "      <th>count</th>\n",
              "    </tr>\n",
              "    <tr>\n",
              "      <th>property_type</th>\n",
              "      <th></th>\n",
              "      <th></th>\n",
              "    </tr>\n",
              "  </thead>\n",
              "  <tbody>\n",
              "    <tr>\n",
              "      <th>House</th>\n",
              "      <td>162.912228</td>\n",
              "      <td>2985</td>\n",
              "    </tr>\n",
              "    <tr>\n",
              "      <th>Apartment</th>\n",
              "      <td>86.778293</td>\n",
              "      <td>2156</td>\n",
              "    </tr>\n",
              "    <tr>\n",
              "      <th>Villa</th>\n",
              "      <td>219.135471</td>\n",
              "      <td>1934</td>\n",
              "    </tr>\n",
              "    <tr>\n",
              "      <th>Cottage</th>\n",
              "      <td>164.697248</td>\n",
              "      <td>545</td>\n",
              "    </tr>\n",
              "    <tr>\n",
              "      <th>Chalet</th>\n",
              "      <td>188.325137</td>\n",
              "      <td>366</td>\n",
              "    </tr>\n",
              "    <tr>\n",
              "      <th>Townhouse</th>\n",
              "      <td>128.082609</td>\n",
              "      <td>230</td>\n",
              "    </tr>\n",
              "    <tr>\n",
              "      <th>Condominium</th>\n",
              "      <td>99.292308</td>\n",
              "      <td>195</td>\n",
              "    </tr>\n",
              "    <tr>\n",
              "      <th>Bed and breakfast</th>\n",
              "      <td>90.063830</td>\n",
              "      <td>94</td>\n",
              "    </tr>\n",
              "    <tr>\n",
              "      <th>Guesthouse</th>\n",
              "      <td>95.511628</td>\n",
              "      <td>86</td>\n",
              "    </tr>\n",
              "    <tr>\n",
              "      <th>Serviced apartment</th>\n",
              "      <td>127.107692</td>\n",
              "      <td>65</td>\n",
              "    </tr>\n",
              "    <tr>\n",
              "      <th>Loft</th>\n",
              "      <td>105.906250</td>\n",
              "      <td>64</td>\n",
              "    </tr>\n",
              "    <tr>\n",
              "      <th>Guest suite</th>\n",
              "      <td>86.209677</td>\n",
              "      <td>62</td>\n",
              "    </tr>\n",
              "    <tr>\n",
              "      <th>Boutique hotel</th>\n",
              "      <td>161.372549</td>\n",
              "      <td>51</td>\n",
              "    </tr>\n",
              "    <tr>\n",
              "      <th>Bungalow</th>\n",
              "      <td>137.552632</td>\n",
              "      <td>38</td>\n",
              "    </tr>\n",
              "    <tr>\n",
              "      <th>Hostel</th>\n",
              "      <td>95.517241</td>\n",
              "      <td>29</td>\n",
              "    </tr>\n",
              "    <tr>\n",
              "      <th>Farm stay</th>\n",
              "      <td>185.833333</td>\n",
              "      <td>18</td>\n",
              "    </tr>\n",
              "    <tr>\n",
              "      <th>Camper/RV</th>\n",
              "      <td>68.411765</td>\n",
              "      <td>17</td>\n",
              "    </tr>\n",
              "    <tr>\n",
              "      <th>Hotel</th>\n",
              "      <td>96.500000</td>\n",
              "      <td>16</td>\n",
              "    </tr>\n",
              "    <tr>\n",
              "      <th>Boat</th>\n",
              "      <td>212.923077</td>\n",
              "      <td>13</td>\n",
              "    </tr>\n",
              "    <tr>\n",
              "      <th>Other</th>\n",
              "      <td>111.769231</td>\n",
              "      <td>13</td>\n",
              "    </tr>\n",
              "    <tr>\n",
              "      <th>Castle</th>\n",
              "      <td>237.500000</td>\n",
              "      <td>10</td>\n",
              "    </tr>\n",
              "    <tr>\n",
              "      <th>Cabin</th>\n",
              "      <td>108.375000</td>\n",
              "      <td>8</td>\n",
              "    </tr>\n",
              "    <tr>\n",
              "      <th>Casa particular (Cuba)</th>\n",
              "      <td>86.714286</td>\n",
              "      <td>7</td>\n",
              "    </tr>\n",
              "    <tr>\n",
              "      <th>Aparthotel</th>\n",
              "      <td>101.000000</td>\n",
              "      <td>6</td>\n",
              "    </tr>\n",
              "    <tr>\n",
              "      <th>Earth house</th>\n",
              "      <td>159.833333</td>\n",
              "      <td>6</td>\n",
              "    </tr>\n",
              "    <tr>\n",
              "      <th>Nature lodge</th>\n",
              "      <td>151.000000</td>\n",
              "      <td>5</td>\n",
              "    </tr>\n",
              "    <tr>\n",
              "      <th>Tiny house</th>\n",
              "      <td>50.200000</td>\n",
              "      <td>5</td>\n",
              "    </tr>\n",
              "    <tr>\n",
              "      <th>Resort</th>\n",
              "      <td>139.666667</td>\n",
              "      <td>3</td>\n",
              "    </tr>\n",
              "    <tr>\n",
              "      <th>Vacation home</th>\n",
              "      <td>112.000000</td>\n",
              "      <td>2</td>\n",
              "    </tr>\n",
              "    <tr>\n",
              "      <th>Hut</th>\n",
              "      <td>42.000000</td>\n",
              "      <td>2</td>\n",
              "    </tr>\n",
              "    <tr>\n",
              "      <th>4</th>\n",
              "      <td>11.000000</td>\n",
              "      <td>1</td>\n",
              "    </tr>\n",
              "    <tr>\n",
              "      <th>Tent</th>\n",
              "      <td>90.000000</td>\n",
              "      <td>1</td>\n",
              "    </tr>\n",
              "    <tr>\n",
              "      <th>Windmill</th>\n",
              "      <td>176.000000</td>\n",
              "      <td>1</td>\n",
              "    </tr>\n",
              "  </tbody>\n",
              "</table>\n",
              "</div>\n",
              "      <button class=\"colab-df-convert\" onclick=\"convertToInteractive('df-3ae2f1b0-3bb4-4bb4-8ac9-3b546c75400a')\"\n",
              "              title=\"Convert this dataframe to an interactive table.\"\n",
              "              style=\"display:none;\">\n",
              "        \n",
              "  <svg xmlns=\"http://www.w3.org/2000/svg\" height=\"24px\"viewBox=\"0 0 24 24\"\n",
              "       width=\"24px\">\n",
              "    <path d=\"M0 0h24v24H0V0z\" fill=\"none\"/>\n",
              "    <path d=\"M18.56 5.44l.94 2.06.94-2.06 2.06-.94-2.06-.94-.94-2.06-.94 2.06-2.06.94zm-11 1L8.5 8.5l.94-2.06 2.06-.94-2.06-.94L8.5 2.5l-.94 2.06-2.06.94zm10 10l.94 2.06.94-2.06 2.06-.94-2.06-.94-.94-2.06-.94 2.06-2.06.94z\"/><path d=\"M17.41 7.96l-1.37-1.37c-.4-.4-.92-.59-1.43-.59-.52 0-1.04.2-1.43.59L10.3 9.45l-7.72 7.72c-.78.78-.78 2.05 0 2.83L4 21.41c.39.39.9.59 1.41.59.51 0 1.02-.2 1.41-.59l7.78-7.78 2.81-2.81c.8-.78.8-2.07 0-2.86zM5.41 20L4 18.59l7.72-7.72 1.47 1.35L5.41 20z\"/>\n",
              "  </svg>\n",
              "      </button>\n",
              "      \n",
              "  <style>\n",
              "    .colab-df-container {\n",
              "      display:flex;\n",
              "      flex-wrap:wrap;\n",
              "      gap: 12px;\n",
              "    }\n",
              "\n",
              "    .colab-df-convert {\n",
              "      background-color: #E8F0FE;\n",
              "      border: none;\n",
              "      border-radius: 50%;\n",
              "      cursor: pointer;\n",
              "      display: none;\n",
              "      fill: #1967D2;\n",
              "      height: 32px;\n",
              "      padding: 0 0 0 0;\n",
              "      width: 32px;\n",
              "    }\n",
              "\n",
              "    .colab-df-convert:hover {\n",
              "      background-color: #E2EBFA;\n",
              "      box-shadow: 0px 1px 2px rgba(60, 64, 67, 0.3), 0px 1px 3px 1px rgba(60, 64, 67, 0.15);\n",
              "      fill: #174EA6;\n",
              "    }\n",
              "\n",
              "    [theme=dark] .colab-df-convert {\n",
              "      background-color: #3B4455;\n",
              "      fill: #D2E3FC;\n",
              "    }\n",
              "\n",
              "    [theme=dark] .colab-df-convert:hover {\n",
              "      background-color: #434B5C;\n",
              "      box-shadow: 0px 1px 3px 1px rgba(0, 0, 0, 0.15);\n",
              "      filter: drop-shadow(0px 1px 2px rgba(0, 0, 0, 0.3));\n",
              "      fill: #FFFFFF;\n",
              "    }\n",
              "  </style>\n",
              "\n",
              "      <script>\n",
              "        const buttonEl =\n",
              "          document.querySelector('#df-3ae2f1b0-3bb4-4bb4-8ac9-3b546c75400a button.colab-df-convert');\n",
              "        buttonEl.style.display =\n",
              "          google.colab.kernel.accessAllowed ? 'block' : 'none';\n",
              "\n",
              "        async function convertToInteractive(key) {\n",
              "          const element = document.querySelector('#df-3ae2f1b0-3bb4-4bb4-8ac9-3b546c75400a');\n",
              "          const dataTable =\n",
              "            await google.colab.kernel.invokeFunction('convertToInteractive',\n",
              "                                                     [key], {});\n",
              "          if (!dataTable) return;\n",
              "\n",
              "          const docLinkHtml = 'Like what you see? Visit the ' +\n",
              "            '<a target=\"_blank\" href=https://colab.research.google.com/notebooks/data_table.ipynb>data table notebook</a>'\n",
              "            + ' to learn more about interactive tables.';\n",
              "          element.innerHTML = '';\n",
              "          dataTable['output_type'] = 'display_data';\n",
              "          await google.colab.output.renderOutput(dataTable, element);\n",
              "          const docLink = document.createElement('div');\n",
              "          docLink.innerHTML = docLinkHtml;\n",
              "          element.appendChild(docLink);\n",
              "        }\n",
              "      </script>\n",
              "    </div>\n",
              "  </div>\n",
              "  "
            ]
          },
          "metadata": {},
          "execution_count": 49
        }
      ]
    },
    {
      "cell_type": "code",
      "source": [
        "value_counts = dflis['city'].value_counts()\n",
        "count_once = len(value_counts[value_counts == 1])\n",
        "count_once #cuenta cantidad de ciudades que aparecen una sola vez"
      ],
      "metadata": {
        "id": "lP5qqh9WsTzD",
        "outputId": "39888b8c-80d0-4147-e23a-171a40053954",
        "colab": {
          "base_uri": "https://localhost:8080/"
        }
      },
      "execution_count": 31,
      "outputs": [
        {
          "output_type": "execute_result",
          "data": {
            "text/plain": [
              "340"
            ]
          },
          "metadata": {},
          "execution_count": 31
        }
      ]
    },
    {
      "cell_type": "code",
      "source": [
        "lis"
      ],
      "metadata": {
        "id": "dhqpxa8diN0s"
      },
      "execution_count": null,
      "outputs": []
    },
    {
      "cell_type": "code",
      "source": [
        "statefilt = lis[['city', 'review_scores_rating']]\n",
        "filtrado = statefilt.value_counts()[:]\n",
        "filtrado = filtrado.groupby('city')['review_scores_rating'].mean()\n",
        "filtrado\n",
        "#statefilt = statefilt.groupby('city').mean().sort_values(by='review_scores_rating', ascending=True)[:30]\n",
        "#filtrado.city.unique()"
      ],
      "metadata": {
        "id": "ODKLkeRT3ePP"
      },
      "execution_count": null,
      "outputs": []
    },
    {
      "cell_type": "code",
      "source": [
        "filtered_df = statefilt.loc[statefilt['city'] == 'palma']\n",
        "filtered_df = filtered_df.dropna(subset=['review_scores_rating'])\n",
        "filtered_df['review_scores_rating'][:50]"
      ],
      "metadata": {
        "id": "7Nd50et-A0vM"
      },
      "execution_count": null,
      "outputs": []
    },
    {
      "cell_type": "code",
      "source": [
        "filtered_df = statefilt.loc[statefilt['city'] == 'manacor']\n",
        "filtered_df = filtered_df['review_scores_rating'].mean()\n",
        "filtered_df"
      ],
      "metadata": {
        "id": "yqcpsJ4H62We",
        "outputId": "9d0f5d48-c435-41e3-dfc4-5d5f6db99fd8",
        "colab": {
          "base_uri": "https://localhost:8080/"
        }
      },
      "execution_count": 280,
      "outputs": [
        {
          "output_type": "execute_result",
          "data": {
            "text/plain": [
              "95.63942307692308"
            ]
          },
          "metadata": {},
          "execution_count": 280
        }
      ]
    },
    {
      "cell_type": "code",
      "source": [
        "prom = dflis.groupby(['zipcode', 'city'])['number_of_reviews'].count()\n",
        "prom = prom.groupby('city').agg('value_counts').sort_values(ascending=False)\n",
        "prom"
      ],
      "metadata": {
        "colab": {
          "base_uri": "https://localhost:8080/"
        },
        "id": "RsAPqMasvDjY",
        "outputId": "c2833619-7bc2-4036-ccbd-6db7f9568351"
      },
      "execution_count": 146,
      "outputs": [
        {
          "output_type": "execute_result",
          "data": {
            "text/plain": [
              "city            number_of_reviews\n",
              "Illes Balears   1                    33\n",
              "Islas Baleares  1                    20\n",
              "Illes Balears   2                    17\n",
              "Mallorca        1                    14\n",
              "Illes Balears   3                    12\n",
              "                                     ..\n",
              "Esporles        52                    1\n",
              "                1                     1\n",
              "Esporlas        1                     1\n",
              "Esporlas        3                     1\n",
              "• Alcúdia       2                     1\n",
              "Name: number_of_reviews, Length: 1282, dtype: int64"
            ]
          },
          "metadata": {},
          "execution_count": 146
        }
      ]
    }
  ]
}