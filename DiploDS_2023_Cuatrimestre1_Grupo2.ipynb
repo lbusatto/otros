{
  "cells": [
    {
      "cell_type": "markdown",
      "metadata": {
        "id": "view-in-github",
        "colab_type": "text"
      },
      "source": [
        "<a href=\"https://colab.research.google.com/github/lbusatto/otros/blob/main/DiploDS_2023_Cuatrimestre1_Grupo2.ipynb\" target=\"_parent\"><img src=\"https://colab.research.google.com/assets/colab-badge.svg\" alt=\"Open In Colab\"/></a>"
      ]
    },
    {
      "cell_type": "markdown",
      "metadata": {
        "id": "AHONY2VzigaP",
        "tags": []
      },
      "source": [
        "## **Examen Diplomatura de Ciencias de Datos (Gestión y Análisis de datos)**\n",
        "\n",
        "A continuación, se detallan las indicaciones para la resolución del examen. Tenga a bien leer todas las instrucciones y no dude en consultar si tiene alguna duda.\n",
        "\n",
        "1. El examen se realiza de forma grupal de acuerdo a la asignación previamente realizada (Grupo 1, Grupo 2, Grupo 3, Grupo 4).\n",
        "2. La fecha de entrega límite del trabajo es el **Martes 11 de Julio a las 23:30 hs (Argentina)**, vía mail con copia a los profesores del curso:\n",
        "\n",
        "- mscavarda@uade.edu.ar\n",
        "- rucasas@uade.edu.ar\n",
        "- sbarreda@uade.edu.ar\n",
        "\n",
        "La entrega debe contar con el código generado en Python, cualquier soporte visual adicional (por ejemplo un dashboard de Tableau) y los datos utilizados. *Nota: No olvidar adjuntar los dataset en caso que estos no estén disponibles en la web (API, Webpage, etc).*<br>\n",
        "3. Tanto el código como el análisis y las visualizaciones realizadas en Python se deben entregan en un notebook en formato **.ipynb**.<br>\n",
        "4. Puede utilizar diferentes herramientas para el desarrollo como Jupyter, Collab, Spyder o VSCode, sin embargo, el trabajo final debe ser entregado en un notebook como está estipulado en el punto 3.<br>\n",
        "5. Para visualizaciones se deben usar las librerías **matplotlib** y **seaborn** además de herramientas de visualización autoservicio como Tableau, PowerBi u otras. Como requisito mínimo deben incluir al menos 3 visualizaciones directamente sobre **matplotlib** en el notebook.<br>\n",
        "6. La defensa del trabajo se realizará el **Jueves 13 de julio de forma grupal y presencial** (formato híbrido admitido para quienes no puedan estar presentes). Se les brindará un espacio entre **30 minutos para la exposición** (aproximadamente 5 minutos por integrante) y luego habrá espacio a preguntas sobre el trabajo. La exposición se deberá realizar con Slides (Powerpoint, Google Slides o similar) y se permite presentar adicionalmente contenido interactivo (ej. un Dashboard) si esto aporta claridad a la defensa.<br>\n",
        "7. La nota se obtendrá en base a un promedio entre el desarrollo del trabajo (código y comentarios), defensa del mismo en forma grupal (cohesión del mensaje, coordinación entre exposiciones, tiempo total utilizado) y exposición individual.<br>\n",
        "8. Los dataset a utilizar son libres, siempre y cuando tengan la confirmación de los docentes (la semana del 26 de junio tienen tiempo de hacer un primer análisis y presentar sus propuestas). En caso que no consigan un dataset que les sea de interés se les proveerá uno.<br>\n",
        "\n",
        "---\n",
        "\n",
        "\n"
      ]
    },
    {
      "cell_type": "markdown",
      "metadata": {
        "id": "F2tqo5cDpTwh"
      },
      "source": [
        "### **Datos del Grupo**\n",
        "\n",
        "Nombre y Apellido | LU\n",
        "------------------|---\n",
        " |\n",
        " |\n",
        " |\n",
        " |\n",
        " |\n",
        " |\n",
        "\n",
        "\n",
        "\n",
        "\n",
        "---\n",
        "\n",
        "\n"
      ]
    },
    {
      "cell_type": "markdown",
      "metadata": {
        "id": "0Uv0eAi_yqJM"
      },
      "source": [
        "### **Criterio de evaluación**\n",
        "\n",
        "Los dataset elegidos deben ser importados y proceder a trabajar con los mismos aplicando los conceptos de limpieza, gestión y transformaciones con el objetivo de encontrar patrones y realizar visualizaciones.\n",
        "\n",
        "Como parte del examen se evaluarán los siguientes conceptos:\n",
        "\n",
        "* Importar datos desde fuentes externas\n",
        "* Limpieza de datos\n",
        "* Gestión de datos y transformaciones\n",
        "* Técnicas para rellenar nulos\n",
        "* Visualizaciones\n",
        "* Almacenamiento de resultados\n",
        "* Claridad en el storytelling\n",
        "* Coherencia en la presentación (colores, estilos, formatos, convenciones, etc).\n",
        "* Comentarios (cada bloque de código debe tener su correspondiente explicación en un comentario/markdown previo, pudiendo además sumar comentarios dentro del código)\n",
        "* [BONUS]: Se tendrá en consideración el utilizar datos de diversas fuentes, el analizar datos de naturaleza diversa (tiempo, geolocalización, análisis de lenguaje natural -NLP-, etc).\n",
        "\n",
        "Los dataset deberán contar con información diversa que permita trabajar además de la limpieza, con **al menos**:\n",
        "- Datos temporales\n",
        "- Transformación de datos\n",
        "- Diversos tipos de visualizaciones\n",
        "---\n",
        "\n"
      ]
    },
    {
      "cell_type": "markdown",
      "metadata": {
        "id": "4nvz_oAulaja"
      },
      "source": [
        "### **Motivación - Objeto de estudio**\n",
        "\n",
        "\n"
      ]
    },
    {
      "cell_type": "markdown",
      "metadata": {
        "id": "ykgwhQH1oE7k"
      },
      "source": [
        "---"
      ]
    },
    {
      "cell_type": "markdown",
      "metadata": {
        "id": "-IqpEYpplfv0"
      },
      "source": [
        "### **Planteo de hipótesis**\n",
        "\n",
        "\n",
        "\n",
        "\n",
        "\n",
        "\n"
      ]
    },
    {
      "cell_type": "markdown",
      "metadata": {
        "id": "c-b0Z-ROoHxF"
      },
      "source": [
        "---"
      ]
    },
    {
      "cell_type": "markdown",
      "metadata": {
        "id": "E5IWMd7slHcT"
      },
      "source": [
        "### **Herramientas utilizadas**\n",
        "\n",
        "\n",
        "\n",
        "\n",
        "\n"
      ]
    },
    {
      "cell_type": "markdown",
      "metadata": {
        "id": "3ekIxSn34RFE"
      },
      "source": [
        "---"
      ]
    },
    {
      "cell_type": "markdown",
      "metadata": {
        "id": "GKGQtOYmlNH9"
      },
      "source": [
        "### **Carga de datos**\n",
        "\n"
      ]
    },
    {
      "cell_type": "code",
      "execution_count": null,
      "metadata": {
        "id": "ChW8RhtdQ2sp"
      },
      "outputs": [],
      "source": [
        "import pandas as pd\n",
        "import seaborn as sns\n",
        "import matplotlib.pyplot as plt\n",
        "from datetime import datetime\n",
        "from datetime import timedelta"
      ]
    },
    {
      "cell_type": "code",
      "source": [
        "ruta_archivo = 'https://raw.githubusercontent.com/lbusatto/otros/main/parsed.csv'\n",
        "df = pd.read_csv(ruta_archivo)\n",
        "\n",
        "#Chicos tenemos que encontra la vuelta para poder abrir todo el archivo completo"
      ],
      "metadata": {
        "id": "AmDERe2IWCUp"
      },
      "execution_count": null,
      "outputs": []
    },
    {
      "cell_type": "code",
      "source": [
        "###Limpieza de datos##\n",
        "\n",
        "#Borrar columnas 'Unnamed: 0.1' y 'Unnamed: 0' por contenido irrelevante\n",
        "df = df.drop(['Unnamed: 0.1', 'Unnamed: 0'], axis=1)"
      ],
      "metadata": {
        "id": "eSmVLuvYmOQk"
      },
      "execution_count": null,
      "outputs": []
    },
    {
      "cell_type": "code",
      "source": [
        "#porner de indice la columna Id_recorrido\n",
        "df = df.set_index('Id_recorrido')"
      ],
      "metadata": {
        "id": "TWFx2GK3ixt7"
      },
      "execution_count": null,
      "outputs": []
    },
    {
      "cell_type": "code",
      "source": [
        "#Retira las ',' del string y convierte a float la columna duracion_recorrido\n",
        "df['duracion_recorrido'] = df['duracion_recorrido'].str.replace(',', '')\n",
        "df['duracion_recorrido'] = pd.to_numeric(df['duracion_recorrido'], errors='coerce')"
      ],
      "metadata": {
        "id": "hSDRyKhZjdxP"
      },
      "execution_count": null,
      "outputs": []
    },
    {
      "cell_type": "code",
      "source": [
        "# Convertir la columna 'fecha_origen_recorrido' al tipo de dato de fecha\n",
        "df['fecha_origen_recorrido'] = pd.to_datetime(df['fecha_origen_recorrido'])\n",
        "\n",
        "# Convertir la columna 'fecha_destino_recorrido ' al tipo de dato de fecha\n",
        "df['fecha_destino_recorrido'] = pd.to_datetime(df['fecha_destino_recorrido'])"
      ],
      "metadata": {
        "id": "EABUAUXmlp_M"
      },
      "execution_count": null,
      "outputs": []
    },
    {
      "cell_type": "code",
      "source": [
        "df.info()"
      ],
      "metadata": {
        "id": "PZo_keJLiYx4"
      },
      "execution_count": null,
      "outputs": []
    },
    {
      "cell_type": "code",
      "source": [
        "media_edad = df['duracion_recorrido'].mean()\n",
        "media_edad"
      ],
      "metadata": {
        "colab": {
          "base_uri": "https://localhost:8080/"
        },
        "id": "kii14kLakxDL",
        "outputId": "faf28016-a09c-40f3-cff9-972724895b90"
      },
      "execution_count": null,
      "outputs": [
        {
          "output_type": "execute_result",
          "data": {
            "text/plain": [
              "1277.2838075166842"
            ]
          },
          "metadata": {},
          "execution_count": 9
        }
      ]
    },
    {
      "cell_type": "code",
      "source": [
        "#Lucas Busatto\n",
        "#Promedio de duracion de viajes segun genero\n",
        "duration = df.groupby('género')['duracion_recorrido'].agg('mean')\n",
        "duration = duration.rename_axis('Genero')\n",
        "duration = duration/ 60\n",
        "duration.columns = ['Promedio en min']\n",
        "graph = duration.plot.bar()\n",
        "graph.set_ylabel('Minutos')\n",
        "\n",
        "graph"
      ],
      "metadata": {
        "id": "I2Y7fbx-lYyR",
        "colab": {
          "base_uri": "https://localhost:8080/",
          "height": 508
        },
        "outputId": "9f2a41f6-b046-4976-b73d-863e80259a6e"
      },
      "execution_count": null,
      "outputs": [
        {
          "output_type": "execute_result",
          "data": {
            "text/plain": [
              "<Axes: xlabel='Genero', ylabel='Minutos'>"
            ]
          },
          "metadata": {},
          "execution_count": 77
        },
        {
          "output_type": "display_data",
          "data": {
            "text/plain": [
              "<Figure size 640x480 with 1 Axes>"
            ],
            "image/png": "[encoded data removed]"
          },
          "metadata": {}
        }
      ]
    },
    {
      "cell_type": "code",
      "source": [
        "df.head() #cris, vista del dataframa para seguir puliendo la data"
      ],
      "metadata": {
        "colab": {
          "base_uri": "https://localhost:8080/",
          "height": 333
        },
        "id": "G08yWYP27RZu",
        "outputId": "8bc0c538-a63c-4e66-ac24-f31f77944d1e"
      },
      "execution_count": null,
      "outputs": [
        {
          "output_type": "execute_result",
          "data": {
            "text/plain": [
              "                   duracion_recorrido fecha_origen_recorrido  \\\n",
              "Id_recorrido                                                   \n",
              "16997896BAEcobici                2471    2023-01-22 10:23:53   \n",
              "17001042BAEcobici                2979    2023-01-22 19:35:27   \n",
              "17002153BAEcobici                 598    2023-01-22 23:04:44   \n",
              "16999995BAEcobici                2472    2023-01-22 17:22:26   \n",
              "16999006BAEcobici                 973    2023-01-22 14:29:49   \n",
              "\n",
              "                  id_estacion_origen  \\\n",
              "Id_recorrido                           \n",
              "16997896BAEcobici       191BAEcobici   \n",
              "17001042BAEcobici       191BAEcobici   \n",
              "17002153BAEcobici       229BAEcobici   \n",
              "16999995BAEcobici         5BAEcobici   \n",
              "16999006BAEcobici       477BAEcobici   \n",
              "\n",
              "                                      nombre_estacion_origen  \\\n",
              "Id_recorrido                                                   \n",
              "16997896BAEcobici               191 - Rivadavia y 9 de Julio   \n",
              "17001042BAEcobici               191 - Rivadavia y 9 de Julio   \n",
              "17002153BAEcobici           243 - PLAZOLETA CELEDONIO FLORES   \n",
              "16999995BAEcobici                         005 - Plaza Italia   \n",
              "16999006BAEcobici  311 - SEC. DE INNOVACION Y TRANSFORMACIÓN   \n",
              "\n",
              "                    direccion_estacion_origen  long_estacion_origen  \\\n",
              "Id_recorrido                                                          \n",
              "16997896BAEcobici  Pellegrini Y Rivadavia Av.            -58.380836   \n",
              "17001042BAEcobici  Pellegrini Y Rivadavia Av.            -58.380836   \n",
              "17002153BAEcobici                Cordoba 6599            -58.451530   \n",
              "16999995BAEcobici          Av. Sarmiento 2601            -58.420954   \n",
              "16999006BAEcobici            Av. Caseros 2309            -58.395054   \n",
              "\n",
              "                   lat_estacion_origen fecha_destino_recorrido  \\\n",
              "Id_recorrido                                                     \n",
              "16997896BAEcobici           -34.607931     2023-01-22 11:05:04   \n",
              "17001042BAEcobici           -34.607931     2023-01-22 20:25:06   \n",
              "17002153BAEcobici           -34.581576     2023-01-22 23:14:42   \n",
              "16999995BAEcobici           -34.580550     2023-01-22 18:03:38   \n",
              "16999006BAEcobici           -34.635005     2023-01-22 14:46:02   \n",
              "\n",
              "                  id_estacion_destino    nombre_estacion_destino  \\\n",
              "Id_recorrido                                                       \n",
              "16997896BAEcobici         30BAEcobici                 030 - Peña   \n",
              "17001042BAEcobici         51BAEcobici              051 - TUCUMAN   \n",
              "17002153BAEcobici        101BAEcobici             101 - Fitz Roy   \n",
              "16999995BAEcobici        131BAEcobici  131- HOSPITAL DE CLÍNICAS   \n",
              "16999006BAEcobici        146BAEcobici     146 - Hospital Francés   \n",
              "\n",
              "                          direccion_estacion_destino  long_estacion_destino  \\\n",
              "Id_recorrido                                                                  \n",
              "16997896BAEcobici                   Peña & Azcuenaga             -58.397370   \n",
              "17001042BAEcobici           Tucuman & 9 De Julio Av.             -58.382126   \n",
              "17002153BAEcobici            Fitz Roy  1092 & Loyola             -58.442440   \n",
              "16999995BAEcobici  Uriburu Jose E., Pres. & Paraguay             -58.399016   \n",
              "16999006BAEcobici                 3024 Calvo, Carlos             -58.407842   \n",
              "\n",
              "                   lat_estacion_destino       id_usuario modelo_bicicleta  \\\n",
              "Id_recorrido                                                                \n",
              "16997896BAEcobici            -34.590821  948377BAEcobici           ICONIC   \n",
              "17001042BAEcobici            -34.601478  948377BAEcobici           ICONIC   \n",
              "17002153BAEcobici            -34.589186  670263BAEcobici           ICONIC   \n",
              "16999995BAEcobici            -34.598404  945249BAEcobici           ICONIC   \n",
              "16999006BAEcobici            -34.622112  245781BAEcobici           ICONIC   \n",
              "\n",
              "                   género  \n",
              "Id_recorrido               \n",
              "16997896BAEcobici    MALE  \n",
              "17001042BAEcobici    MALE  \n",
              "17002153BAEcobici    MALE  \n",
              "16999995BAEcobici    MALE  \n",
              "16999006BAEcobici  FEMALE  "
            ],
            "text/html": [
              "\n",
              "  <div id=\"df-9740dcb2-dd2f-4674-90bd-643590798a39\">\n",
              "    <div class=\"colab-df-container\">\n",
              "      <div>\n",
              "<style scoped>\n",
              "    .dataframe tbody tr th:only-of-type {\n",
              "        vertical-align: middle;\n",
              "    }\n",
              "\n",
              "    .dataframe tbody tr th {\n",
              "        vertical-align: top;\n",
              "    }\n",
              "\n",
              "    .dataframe thead th {\n",
              "        text-align: right;\n",
              "    }\n",
              "</style>\n",
              "<table border=\"1\" class=\"dataframe\">\n",
              "  <thead>\n",
              "    <tr style=\"text-align: right;\">\n",
              "      <th></th>\n",
              "      <th>duracion_recorrido</th>\n",
              "      <th>fecha_origen_recorrido</th>\n",
              "      <th>id_estacion_origen</th>\n",
              "      <th>nombre_estacion_origen</th>\n",
              "      <th>direccion_estacion_origen</th>\n",
              "      <th>long_estacion_origen</th>\n",
              "      <th>lat_estacion_origen</th>\n",
              "      <th>fecha_destino_recorrido</th>\n",
              "      <th>id_estacion_destino</th>\n",
              "      <th>nombre_estacion_destino</th>\n",
              "      <th>direccion_estacion_destino</th>\n",
              "      <th>long_estacion_destino</th>\n",
              "      <th>lat_estacion_destino</th>\n",
              "      <th>id_usuario</th>\n",
              "      <th>modelo_bicicleta</th>\n",
              "      <th>género</th>\n",
              "    </tr>\n",
              "    <tr>\n",
              "      <th>Id_recorrido</th>\n",
              "      <th></th>\n",
              "      <th></th>\n",
              "      <th></th>\n",
              "      <th></th>\n",
              "      <th></th>\n",
              "      <th></th>\n",
              "      <th></th>\n",
              "      <th></th>\n",
              "      <th></th>\n",
              "      <th></th>\n",
              "      <th></th>\n",
              "      <th></th>\n",
              "      <th></th>\n",
              "      <th></th>\n",
              "      <th></th>\n",
              "      <th></th>\n",
              "    </tr>\n",
              "  </thead>\n",
              "  <tbody>\n",
              "    <tr>\n",
              "      <th>16997896BAEcobici</th>\n",
              "      <td>2471</td>\n",
              "      <td>2023-01-22 10:23:53</td>\n",
              "      <td>191BAEcobici</td>\n",
              "      <td>191 - Rivadavia y 9 de Julio</td>\n",
              "      <td>Pellegrini Y Rivadavia Av.</td>\n",
              "      <td>-58.380836</td>\n",
              "      <td>-34.607931</td>\n",
              "      <td>2023-01-22 11:05:04</td>\n",
              "      <td>30BAEcobici</td>\n",
              "      <td>030 - Peña</td>\n",
              "      <td>Peña &amp; Azcuenaga</td>\n",
              "      <td>-58.397370</td>\n",
              "      <td>-34.590821</td>\n",
              "      <td>948377BAEcobici</td>\n",
              "      <td>ICONIC</td>\n",
              "      <td>MALE</td>\n",
              "    </tr>\n",
              "    <tr>\n",
              "      <th>17001042BAEcobici</th>\n",
              "      <td>2979</td>\n",
              "      <td>2023-01-22 19:35:27</td>\n",
              "      <td>191BAEcobici</td>\n",
              "      <td>191 - Rivadavia y 9 de Julio</td>\n",
              "      <td>Pellegrini Y Rivadavia Av.</td>\n",
              "      <td>-58.380836</td>\n",
              "      <td>-34.607931</td>\n",
              "      <td>2023-01-22 20:25:06</td>\n",
              "      <td>51BAEcobici</td>\n",
              "      <td>051 - TUCUMAN</td>\n",
              "      <td>Tucuman &amp; 9 De Julio Av.</td>\n",
              "      <td>-58.382126</td>\n",
              "      <td>-34.601478</td>\n",
              "      <td>948377BAEcobici</td>\n",
              "      <td>ICONIC</td>\n",
              "      <td>MALE</td>\n",
              "    </tr>\n",
              "    <tr>\n",
              "      <th>17002153BAEcobici</th>\n",
              "      <td>598</td>\n",
              "      <td>2023-01-22 23:04:44</td>\n",
              "      <td>229BAEcobici</td>\n",
              "      <td>243 - PLAZOLETA CELEDONIO FLORES</td>\n",
              "      <td>Cordoba 6599</td>\n",
              "      <td>-58.451530</td>\n",
              "      <td>-34.581576</td>\n",
              "      <td>2023-01-22 23:14:42</td>\n",
              "      <td>101BAEcobici</td>\n",
              "      <td>101 - Fitz Roy</td>\n",
              "      <td>Fitz Roy  1092 &amp; Loyola</td>\n",
              "      <td>-58.442440</td>\n",
              "      <td>-34.589186</td>\n",
              "      <td>670263BAEcobici</td>\n",
              "      <td>ICONIC</td>\n",
              "      <td>MALE</td>\n",
              "    </tr>\n",
              "    <tr>\n",
              "      <th>16999995BAEcobici</th>\n",
              "      <td>2472</td>\n",
              "      <td>2023-01-22 17:22:26</td>\n",
              "      <td>5BAEcobici</td>\n",
              "      <td>005 - Plaza Italia</td>\n",
              "      <td>Av. Sarmiento 2601</td>\n",
              "      <td>-58.420954</td>\n",
              "      <td>-34.580550</td>\n",
              "      <td>2023-01-22 18:03:38</td>\n",
              "      <td>131BAEcobici</td>\n",
              "      <td>131- HOSPITAL DE CLÍNICAS</td>\n",
              "      <td>Uriburu Jose E., Pres. &amp; Paraguay</td>\n",
              "      <td>-58.399016</td>\n",
              "      <td>-34.598404</td>\n",
              "      <td>945249BAEcobici</td>\n",
              "      <td>ICONIC</td>\n",
              "      <td>MALE</td>\n",
              "    </tr>\n",
              "    <tr>\n",
              "      <th>16999006BAEcobici</th>\n",
              "      <td>973</td>\n",
              "      <td>2023-01-22 14:29:49</td>\n",
              "      <td>477BAEcobici</td>\n",
              "      <td>311 - SEC. DE INNOVACION Y TRANSFORMACIÓN</td>\n",
              "      <td>Av. Caseros 2309</td>\n",
              "      <td>-58.395054</td>\n",
              "      <td>-34.635005</td>\n",
              "      <td>2023-01-22 14:46:02</td>\n",
              "      <td>146BAEcobici</td>\n",
              "      <td>146 - Hospital Francés</td>\n",
              "      <td>3024 Calvo, Carlos</td>\n",
              "      <td>-58.407842</td>\n",
              "      <td>-34.622112</td>\n",
              "      <td>245781BAEcobici</td>\n",
              "      <td>ICONIC</td>\n",
              "      <td>FEMALE</td>\n",
              "    </tr>\n",
              "  </tbody>\n",
              "</table>\n",
              "</div>\n",
              "      <button class=\"colab-df-convert\" onclick=\"convertToInteractive('df-9740dcb2-dd2f-4674-90bd-643590798a39')\"\n",
              "              title=\"Convert this dataframe to an interactive table.\"\n",
              "              style=\"display:none;\">\n",
              "        \n",
              "  <svg xmlns=\"http://www.w3.org/2000/svg\" height=\"24px\"viewBox=\"0 0 24 24\"\n",
              "       width=\"24px\">\n",
              "    <path d=\"M0 0h24v24H0V0z\" fill=\"none\"/>\n",
              "    <path d=\"M18.56 5.44l.94 2.06.94-2.06 2.06-.94-2.06-.94-.94-2.06-.94 2.06-2.06.94zm-11 1L8.5 8.5l.94-2.06 2.06-.94-2.06-.94L8.5 2.5l-.94 2.06-2.06.94zm10 10l.94 2.06.94-2.06 2.06-.94-2.06-.94-.94-2.06-.94 2.06-2.06.94z\"/><path d=\"M17.41 7.96l-1.37-1.37c-.4-.4-.92-.59-1.43-.59-.52 0-1.04.2-1.43.59L10.3 9.45l-7.72 7.72c-.78.78-.78 2.05 0 2.83L4 21.41c.39.39.9.59 1.41.59.51 0 1.02-.2 1.41-.59l7.78-7.78 2.81-2.81c.8-.78.8-2.07 0-2.86zM5.41 20L4 18.59l7.72-7.72 1.47 1.35L5.41 20z\"/>\n",
              "  </svg>\n",
              "      </button>\n",
              "      \n",
              "  <style>\n",
              "    .colab-df-container {\n",
              "      display:flex;\n",
              "      flex-wrap:wrap;\n",
              "      gap: 12px;\n",
              "    }\n",
              "\n",
              "    .colab-df-convert {\n",
              "      background-color: #E8F0FE;\n",
              "      border: none;\n",
              "      border-radius: 50%;\n",
              "      cursor: pointer;\n",
              "      display: none;\n",
              "      fill: #1967D2;\n",
              "      height: 32px;\n",
              "      padding: 0 0 0 0;\n",
              "      width: 32px;\n",
              "    }\n",
              "\n",
              "    .colab-df-convert:hover {\n",
              "      background-color: #E2EBFA;\n",
              "      box-shadow: 0px 1px 2px rgba(60, 64, 67, 0.3), 0px 1px 3px 1px rgba(60, 64, 67, 0.15);\n",
              "      fill: #174EA6;\n",
              "    }\n",
              "\n",
              "    [theme=dark] .colab-df-convert {\n",
              "      background-color: #3B4455;\n",
              "      fill: #D2E3FC;\n",
              "    }\n",
              "\n",
              "    [theme=dark] .colab-df-convert:hover {\n",
              "      background-color: #434B5C;\n",
              "      box-shadow: 0px 1px 3px 1px rgba(0, 0, 0, 0.15);\n",
              "      filter: drop-shadow(0px 1px 2px rgba(0, 0, 0, 0.3));\n",
              "      fill: #FFFFFF;\n",
              "    }\n",
              "  </style>\n",
              "\n",
              "      <script>\n",
              "        const buttonEl =\n",
              "          document.querySelector('#df-9740dcb2-dd2f-4674-90bd-643590798a39 button.colab-df-convert');\n",
              "        buttonEl.style.display =\n",
              "          google.colab.kernel.accessAllowed ? 'block' : 'none';\n",
              "\n",
              "        async function convertToInteractive(key) {\n",
              "          const element = document.querySelector('#df-9740dcb2-dd2f-4674-90bd-643590798a39');\n",
              "          const dataTable =\n",
              "            await google.colab.kernel.invokeFunction('convertToInteractive',\n",
              "                                                     [key], {});\n",
              "          if (!dataTable) return;\n",
              "\n",
              "          const docLinkHtml = 'Like what you see? Visit the ' +\n",
              "            '<a target=\"_blank\" href=https://colab.research.google.com/notebooks/data_table.ipynb>data table notebook</a>'\n",
              "            + ' to learn more about interactive tables.';\n",
              "          element.innerHTML = '';\n",
              "          dataTable['output_type'] = 'display_data';\n",
              "          await google.colab.output.renderOutput(dataTable, element);\n",
              "          const docLink = document.createElement('div');\n",
              "          docLink.innerHTML = docLinkHtml;\n",
              "          element.appendChild(docLink);\n",
              "        }\n",
              "      </script>\n",
              "    </div>\n",
              "  </div>\n",
              "  "
            ]
          },
          "metadata": {},
          "execution_count": 12
        }
      ]
    },
    {
      "cell_type": "markdown",
      "source": [],
      "metadata": {
        "id": "08I_crEvV2le"
      }
    },
    {
      "cell_type": "markdown",
      "metadata": {
        "id": "zd3Kf2P94RFL"
      },
      "source": [
        "---"
      ]
    },
    {
      "cell_type": "markdown",
      "metadata": {
        "id": "jBeiF82nSEsw"
      },
      "source": [
        "### **Descripción de las columnas**\n",
        "\n"
      ]
    },
    {
      "cell_type": "code",
      "execution_count": null,
      "metadata": {
        "id": "pB3pG94F4RFL",
        "outputId": "a3ce3306-0242-4896-f951-e63b8dc2ce97"
      },
      "outputs": [
        {
          "name": "stdout",
          "output_type": "stream",
          "text": [
            "(1137714, 18)\n"
          ]
        }
      ],
      "source": [
        "#ver cuantos datos tiene el archivo\n",
        "print(df.shape)"
      ]
    },
    {
      "cell_type": "markdown",
      "metadata": {
        "id": "9VY_8yMg4RFM"
      },
      "source": [
        "---"
      ]
    },
    {
      "cell_type": "markdown",
      "metadata": {
        "id": "GzAkqPqNlRa_"
      },
      "source": [
        "### **Limpieza de datos**\n",
        "\n"
      ]
    },
    {
      "cell_type": "code",
      "execution_count": null,
      "metadata": {
        "id": "tBtEU51x4RFN"
      },
      "outputs": [],
      "source": []
    },
    {
      "cell_type": "markdown",
      "metadata": {
        "id": "Mabo52AN4RFN"
      },
      "source": [
        "---"
      ]
    },
    {
      "cell_type": "markdown",
      "metadata": {
        "id": "4B8GBZEilTLI"
      },
      "source": [
        "### **Transformación de datos**"
      ]
    },
    {
      "cell_type": "code",
      "execution_count": null,
      "metadata": {
        "id": "VDTEfv2T4RFO"
      },
      "outputs": [],
      "source": []
    },
    {
      "cell_type": "markdown",
      "metadata": {
        "id": "zDMap6Du4RFO"
      },
      "source": [
        "---"
      ]
    },
    {
      "cell_type": "markdown",
      "metadata": {
        "id": "GzJn9nnFlVSY"
      },
      "source": [
        "### **Análisis y Visualizaciones**\n"
      ]
    },
    {
      "cell_type": "code",
      "execution_count": null,
      "metadata": {
        "id": "wJVqEz7_4RFO"
      },
      "outputs": [],
      "source": []
    },
    {
      "cell_type": "markdown",
      "metadata": {
        "id": "EqEyiLA84RFP"
      },
      "source": [
        "---"
      ]
    },
    {
      "cell_type": "markdown",
      "metadata": {
        "id": "z-22IUoN3Je-"
      },
      "source": [
        "### **Conclusiones**\n"
      ]
    },
    {
      "cell_type": "markdown",
      "metadata": {
        "id": "0hccdbyE4RFP"
      },
      "source": [
        "---"
      ]
    },
    {
      "cell_type": "markdown",
      "metadata": {
        "id": "Kaj-iJKelY-c"
      },
      "source": [
        "### **Almacenamiento de resultados**\n"
      ]
    },
    {
      "cell_type": "code",
      "execution_count": null,
      "metadata": {
        "id": "TCh7VVaF4RFP"
      },
      "outputs": [],
      "source": []
    },
    {
      "cell_type": "markdown",
      "metadata": {
        "id": "KK-EoZLI4RFQ"
      },
      "source": [
        "---"
      ]
    }
  ],
  "metadata": {
    "colab": {
      "provenance": [],
      "include_colab_link": true
    },
    "kernelspec": {
      "display_name": "Python 3 (ipykernel)",
      "language": "python",
      "name": "python3"
    },
    "language_info": {
      "codemirror_mode": {
        "name": "ipython",
        "version": 3
      },
      "file_extension": ".py",
      "mimetype": "text/x-python",
      "name": "python",
      "nbconvert_exporter": "python",
      "pygments_lexer": "ipython3",
      "version": "3.10.9"
    }
  },
  "nbformat": 4,
  "nbformat_minor": 0
}